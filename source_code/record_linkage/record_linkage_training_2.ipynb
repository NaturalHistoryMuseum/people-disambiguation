{
 "cells": [
  {
   "cell_type": "code",
   "execution_count": 1,
   "id": "9e600e8d",
   "metadata": {},
   "outputs": [
    {
     "data": {
      "text/plain": [
       "0"
      ]
     },
     "execution_count": 1,
     "metadata": {},
     "output_type": "execute_result"
    }
   ],
   "source": [
    "import argparse\n",
    "import numpy as np\n",
    "import pandas as pd\n",
    "import itertools\n",
    "import os\n",
    "import tqdm\n",
    "import matplotlib.pyplot as plt\n",
    "from collections import defaultdict\n",
    "from sklearn.metrics import roc_auc_score\n",
    "import gc\n",
    "from thefuzz import fuzz\n",
    "from thefuzz import process\n",
    "import time\n",
    "import re\n",
    "import recordlinkage\n",
    "from sklearn.model_selection import train_test_split\n",
    "\n",
    "gc.collect()"
   ]
  },
  {
   "cell_type": "code",
   "execution_count": 2,
   "id": "7c1789f0",
   "metadata": {},
   "outputs": [],
   "source": [
    "'''\n",
    "# this function will remove all special charaters -- including spaces\n",
    "# but too slow comparing to replace -- used process_time() for evaluation\n",
    "def clean_text(text): # fa\n",
    "    a = \"\"\n",
    "    text = a.join(char for char in text if char.isalnum())\n",
    "    return text\n",
    "'''\n",
    "# Remove square blankets auto generated during data alignment process\n",
    "def clean_text(text): # fb\n",
    "    text = text.replace('[', '').replace(']','').replace(\"'\", '')\n",
    "    return text\n",
    "\n",
    "def remove_spec_in_col(df, col):\n",
    "    newCol = []\n",
    "    for index, rowValue in df[col].iteritems():\n",
    "        if pd.notnull(rowValue):\n",
    "            newCol.append(clean_text(rowValue))\n",
    "        else:\n",
    "            newCol.append(np.nan)\n",
    "    return newCol"
   ]
  },
  {
   "cell_type": "code",
   "execution_count": 3,
   "id": "e7946caf",
   "metadata": {},
   "outputs": [],
   "source": [
    "def add_boolean_column(df, list_column_name, boolean_column_name):\n",
    "    df[boolean_column_name] = df[list_column_name].apply(lambda x: False if x == \"[]\" else bool(x))\n",
    "    return df"
   ]
  },
  {
   "cell_type": "code",
   "execution_count": 4,
   "id": "f24e1267",
   "metadata": {},
   "outputs": [
    {
     "name": "stdout",
     "output_type": "stream",
     "text": [
      "                              label  dateOfBirth  dateOfDeath  \\\n",
      "id                                                              \n",
      "Q100142069             Frida Eggens          NaN          NaN   \n",
      "Q100146795       Elizabeth Harrison       1792.0       1834.0   \n",
      "Q100149196              Russell Cox          NaN          NaN   \n",
      "Q100152296  Alda Pereira da Fonseca       1882.0          NaN   \n",
      "Q100156193  Laurence Henry Millener       1914.0       2000.0   \n",
      "\n",
      "           countryOfCitizenshipISO harvardIndex             bionomia  \\\n",
      "id                                                                     \n",
      "Q100142069                      SE          NaN                  NaN   \n",
      "Q100146795                      GB          NaN           Q100146795   \n",
      "Q100149196                     NaN          NaN  0000-0001-5149-1709   \n",
      "Q100152296                      BR          NaN                  NaN   \n",
      "Q100156193                      NZ          NaN           Q100156193   \n",
      "\n",
      "           authorAbbrv                                            aliases  \\\n",
      "id                                                                          \n",
      "Q100142069      Eggens                                             Eggens   \n",
      "Q100146795         NaN                     Mrs Arnold Harrison, Mrs A. H.   \n",
      "Q100149196         NaN                                                NaN   \n",
      "Q100152296         NaN                                                NaN   \n",
      "Q100156193         NaN  L. H. Millener, Laurie Henry Millener, Laurie ...   \n",
      "\n",
      "            firstName  lastName      wikiID  \n",
      "id                                           \n",
      "Q100142069      Frida    Eggens  Q100142069  \n",
      "Q100146795  Elizabeth  Harrison  Q100146795  \n",
      "Q100149196    Russell       Cox  Q100149196  \n",
      "Q100152296       Alda   Fonseca  Q100152296  \n",
      "Q100156193   Laurence  Millener  Q100156193  \n",
      "   bioID                orcid    wikidata                  fullname  \\\n",
      "0      0                  NaN  Q108887181       A. R. Christiaensen   \n",
      "1      1  0000-0001-7348-143X         NaN    Fabian A. Michelangeli   \n",
      "2      2  0000-0001-5980-1417         NaN  Jairo A. Moreno-González   \n",
      "3      3  0000-0001-7835-0295         NaN       Dean A. Hendrickson   \n",
      "4      4  0000-0001-6004-7730         NaN    Jonathan A. Coddington   \n",
      "\n",
      "            fullname_reverse                label     orgs countries  \\\n",
      "0       Christiaensen, A. R.  A. R. Christiaensen      NaN       NaN   \n",
      "1    Michelangeli, Fabian A.                  NaN  Q636275        US   \n",
      "2  Moreno-González, Jairo A.                  NaN      NaN       NaN   \n",
      "3       Hendrickson, Dean A.  Dean A. Hendrickson   Q49213        US   \n",
      "4    Coddington, Jonathan A.                  NaN      NaN       NaN   \n",
      "\n",
      "          combined_fullname  dateOfBirth  dateOfDeath  \\\n",
      "0       A. R. Christiaensen       1966.0          NaN   \n",
      "1    Fabian A. Michelangeli          NaN          NaN   \n",
      "2  Jairo A. Moreno-González          NaN          NaN   \n",
      "3       Dean A. Hendrickson          NaN          NaN   \n",
      "4    Jonathan A. Coddington          NaN          NaN   \n",
      "\n",
      "                                       acceptedNames    firstName  \\\n",
      "0                                   A. Christiaensen        A. R.   \n",
      "1  F. A. Michelangeli, Fabian A. Michelangeli, F....    Fabian A.   \n",
      "2                                                        Jairo A.   \n",
      "3  D.A. Hendrickson, Dean Hendrickson, D. Hendric...      Dean A.   \n",
      "4                                                     Jonathan A.   \n",
      "\n",
      "          lastName  \n",
      "0    Christiaensen  \n",
      "1     Michelangeli  \n",
      "2  Moreno-González  \n",
      "3      Hendrickson  \n",
      "4       Coddington  \n"
     ]
    }
   ],
   "source": [
    "a = pd.read_csv('~/Downloads/a.csv',chunksize=10000,encoding='utf-8',on_bad_lines='skip',engine='python')\n",
    "a = pd.concat(a)\n",
    "a['wikiID'] = a['id']\n",
    "a = a.set_index('id')\n",
    "print(a.head())\n",
    "\n",
    "c = pd.read_csv('c.csv',chunksize=10000,encoding='utf-8',on_bad_lines='skip',engine='python')\n",
    "c = pd.concat(c)\n",
    "c['acceptedNames'] = remove_spec_in_col(c,'acceptedNames')\n",
    "c.rename(columns={'Unnamed: 0': 'bioID'}, inplace=True)\n",
    "print(c.head())"
   ]
  },
  {
   "cell_type": "code",
   "execution_count": 5,
   "id": "be2bbd69",
   "metadata": {},
   "outputs": [
    {
     "name": "stdout",
     "output_type": "stream",
     "text": [
      "['label_wiki', 'dateOfBirth_wiki', 'dateOfDeath_wiki', 'countryOfCitizenshipISO', 'harvardIndex', 'bionomia', 'authorAbbrv', 'aliases', 'firstName_wiki', 'lastName_wiki', 'wikiID', 'bioID', 'orcid', 'wikidata', 'fullname', 'fullname_reverse', 'label_bionomia', 'orgs', 'countries', 'combined_fullname', 'dateOfBirth_bionomia', 'dateOfDeath_bionomia', 'acceptedNames', 'firstName_bionomia', 'lastName_bionomia']\n",
      "23895\n"
     ]
    },
    {
     "data": {
      "text/html": [
       "<div>\n",
       "<style scoped>\n",
       "    .dataframe tbody tr th:only-of-type {\n",
       "        vertical-align: middle;\n",
       "    }\n",
       "\n",
       "    .dataframe tbody tr th {\n",
       "        vertical-align: top;\n",
       "    }\n",
       "\n",
       "    .dataframe thead th {\n",
       "        text-align: right;\n",
       "    }\n",
       "</style>\n",
       "<table border=\"1\" class=\"dataframe\">\n",
       "  <thead>\n",
       "    <tr style=\"text-align: right;\">\n",
       "      <th></th>\n",
       "      <th>label_wiki</th>\n",
       "      <th>dateOfBirth_wiki</th>\n",
       "      <th>dateOfDeath_wiki</th>\n",
       "      <th>countryOfCitizenshipISO</th>\n",
       "      <th>harvardIndex</th>\n",
       "      <th>bionomia</th>\n",
       "      <th>authorAbbrv</th>\n",
       "      <th>aliases</th>\n",
       "      <th>firstName_wiki</th>\n",
       "      <th>lastName_wiki</th>\n",
       "      <th>...</th>\n",
       "      <th>fullname_reverse</th>\n",
       "      <th>label_bionomia</th>\n",
       "      <th>orgs</th>\n",
       "      <th>countries</th>\n",
       "      <th>combined_fullname</th>\n",
       "      <th>dateOfBirth_bionomia</th>\n",
       "      <th>dateOfDeath_bionomia</th>\n",
       "      <th>acceptedNames</th>\n",
       "      <th>firstName_bionomia</th>\n",
       "      <th>lastName_bionomia</th>\n",
       "    </tr>\n",
       "  </thead>\n",
       "  <tbody>\n",
       "    <tr>\n",
       "      <th>0</th>\n",
       "      <td>Elizabeth Harrison</td>\n",
       "      <td>1792.0</td>\n",
       "      <td>1834.0</td>\n",
       "      <td>GB</td>\n",
       "      <td>NaN</td>\n",
       "      <td>Q100146795</td>\n",
       "      <td>NaN</td>\n",
       "      <td>Mrs Arnold Harrison, Mrs A. H.</td>\n",
       "      <td>Elizabeth</td>\n",
       "      <td>Harrison</td>\n",
       "      <td>...</td>\n",
       "      <td>Harrison, Elizabeth</td>\n",
       "      <td>Elizabeth Harrison</td>\n",
       "      <td>NaN</td>\n",
       "      <td>NaN</td>\n",
       "      <td>Elizabeth Harrison</td>\n",
       "      <td>1792.0</td>\n",
       "      <td>1834.0</td>\n",
       "      <td>Mrs Arnold Harrison, Mrs A. H.</td>\n",
       "      <td>Elizabeth</td>\n",
       "      <td>Harrison</td>\n",
       "    </tr>\n",
       "    <tr>\n",
       "      <th>1</th>\n",
       "      <td>Laurence Henry Millener</td>\n",
       "      <td>1914.0</td>\n",
       "      <td>2000.0</td>\n",
       "      <td>NZ</td>\n",
       "      <td>NaN</td>\n",
       "      <td>Q100156193</td>\n",
       "      <td>NaN</td>\n",
       "      <td>L. H. Millener, Laurie Henry Millener, Laurie ...</td>\n",
       "      <td>Laurence</td>\n",
       "      <td>Millener</td>\n",
       "      <td>...</td>\n",
       "      <td>Millener, Laurence Henry</td>\n",
       "      <td>Laurence Henry Millener</td>\n",
       "      <td>NaN</td>\n",
       "      <td>NaN</td>\n",
       "      <td>Laurence Henry Millener</td>\n",
       "      <td>1914.0</td>\n",
       "      <td>2000.0</td>\n",
       "      <td>L. H. Millener, Laurie Henry Millener, Laurie ...</td>\n",
       "      <td>Laurence Henry</td>\n",
       "      <td>Millener</td>\n",
       "    </tr>\n",
       "    <tr>\n",
       "      <th>2</th>\n",
       "      <td>Thomas Leonard Lancaster</td>\n",
       "      <td>1888.0</td>\n",
       "      <td>1945.0</td>\n",
       "      <td>NZ</td>\n",
       "      <td>NaN</td>\n",
       "      <td>Q100156252</td>\n",
       "      <td>NaN</td>\n",
       "      <td>T. L. Lancaster</td>\n",
       "      <td>Thomas</td>\n",
       "      <td>Lancaster</td>\n",
       "      <td>...</td>\n",
       "      <td>Lancaster, Thomas Leonard</td>\n",
       "      <td>Thomas Leonard Lancaster</td>\n",
       "      <td>NaN</td>\n",
       "      <td>NaN</td>\n",
       "      <td>Thomas Leonard Lancaster</td>\n",
       "      <td>1888.0</td>\n",
       "      <td>1945.0</td>\n",
       "      <td>T. L. Lancaster</td>\n",
       "      <td>Thomas Leonard</td>\n",
       "      <td>Lancaster</td>\n",
       "    </tr>\n",
       "    <tr>\n",
       "      <th>3</th>\n",
       "      <td>Ross Henry Michie</td>\n",
       "      <td>1894.0</td>\n",
       "      <td>1987.0</td>\n",
       "      <td>NZ</td>\n",
       "      <td>NaN</td>\n",
       "      <td>Q100157099</td>\n",
       "      <td>NaN</td>\n",
       "      <td>Ross Michie, R. H. Michie</td>\n",
       "      <td>Ross</td>\n",
       "      <td>Michie</td>\n",
       "      <td>...</td>\n",
       "      <td>Michie, Ross Henry</td>\n",
       "      <td>Ross Henry Michie</td>\n",
       "      <td>NaN</td>\n",
       "      <td>NaN</td>\n",
       "      <td>Ross Henry Michie</td>\n",
       "      <td>1894.0</td>\n",
       "      <td>1987.0</td>\n",
       "      <td>Ross Michie, R. H. Michie</td>\n",
       "      <td>Ross Henry</td>\n",
       "      <td>Michie</td>\n",
       "    </tr>\n",
       "    <tr>\n",
       "      <th>4</th>\n",
       "      <td>Johann Bartsch</td>\n",
       "      <td>1709.0</td>\n",
       "      <td>1738.0</td>\n",
       "      <td>DE</td>\n",
       "      <td>27614</td>\n",
       "      <td>NaN</td>\n",
       "      <td>Bartsch</td>\n",
       "      <td>Johannes Bartsch, Joannes Bartsch, Bartsch</td>\n",
       "      <td>Johann</td>\n",
       "      <td>Bartsch</td>\n",
       "      <td>...</td>\n",
       "      <td>Bartsch, Johann</td>\n",
       "      <td>Johann Bartsch</td>\n",
       "      <td>NaN</td>\n",
       "      <td>NaN</td>\n",
       "      <td>Johann Bartsch</td>\n",
       "      <td>1709.0</td>\n",
       "      <td>1738.0</td>\n",
       "      <td>Joannes Bartsch, Johannes Bartsch, Bartsch</td>\n",
       "      <td>Johann</td>\n",
       "      <td>Bartsch</td>\n",
       "    </tr>\n",
       "  </tbody>\n",
       "</table>\n",
       "<p>5 rows × 25 columns</p>\n",
       "</div>"
      ],
      "text/plain": [
       "                 label_wiki  dateOfBirth_wiki  dateOfDeath_wiki  \\\n",
       "0        Elizabeth Harrison            1792.0            1834.0   \n",
       "1   Laurence Henry Millener            1914.0            2000.0   \n",
       "2  Thomas Leonard Lancaster            1888.0            1945.0   \n",
       "3         Ross Henry Michie            1894.0            1987.0   \n",
       "4            Johann Bartsch            1709.0            1738.0   \n",
       "\n",
       "  countryOfCitizenshipISO harvardIndex    bionomia authorAbbrv  \\\n",
       "0                      GB          NaN  Q100146795         NaN   \n",
       "1                      NZ          NaN  Q100156193         NaN   \n",
       "2                      NZ          NaN  Q100156252         NaN   \n",
       "3                      NZ          NaN  Q100157099         NaN   \n",
       "4                      DE        27614         NaN     Bartsch   \n",
       "\n",
       "                                             aliases firstName_wiki  \\\n",
       "0                     Mrs Arnold Harrison, Mrs A. H.      Elizabeth   \n",
       "1  L. H. Millener, Laurie Henry Millener, Laurie ...       Laurence   \n",
       "2                                    T. L. Lancaster         Thomas   \n",
       "3                          Ross Michie, R. H. Michie           Ross   \n",
       "4         Johannes Bartsch, Joannes Bartsch, Bartsch         Johann   \n",
       "\n",
       "  lastName_wiki  ...           fullname_reverse            label_bionomia  \\\n",
       "0      Harrison  ...        Harrison, Elizabeth        Elizabeth Harrison   \n",
       "1      Millener  ...   Millener, Laurence Henry   Laurence Henry Millener   \n",
       "2     Lancaster  ...  Lancaster, Thomas Leonard  Thomas Leonard Lancaster   \n",
       "3        Michie  ...         Michie, Ross Henry         Ross Henry Michie   \n",
       "4       Bartsch  ...            Bartsch, Johann            Johann Bartsch   \n",
       "\n",
       "  orgs countries         combined_fullname dateOfBirth_bionomia  \\\n",
       "0  NaN       NaN        Elizabeth Harrison               1792.0   \n",
       "1  NaN       NaN   Laurence Henry Millener               1914.0   \n",
       "2  NaN       NaN  Thomas Leonard Lancaster               1888.0   \n",
       "3  NaN       NaN         Ross Henry Michie               1894.0   \n",
       "4  NaN       NaN            Johann Bartsch               1709.0   \n",
       "\n",
       "  dateOfDeath_bionomia                                      acceptedNames  \\\n",
       "0               1834.0                     Mrs Arnold Harrison, Mrs A. H.   \n",
       "1               2000.0  L. H. Millener, Laurie Henry Millener, Laurie ...   \n",
       "2               1945.0                                    T. L. Lancaster   \n",
       "3               1987.0                          Ross Michie, R. H. Michie   \n",
       "4               1738.0         Joannes Bartsch, Johannes Bartsch, Bartsch   \n",
       "\n",
       "  firstName_bionomia lastName_bionomia  \n",
       "0          Elizabeth          Harrison  \n",
       "1     Laurence Henry          Millener  \n",
       "2     Thomas Leonard         Lancaster  \n",
       "3         Ross Henry            Michie  \n",
       "4             Johann           Bartsch  \n",
       "\n",
       "[5 rows x 25 columns]"
      ]
     },
     "execution_count": 5,
     "metadata": {},
     "output_type": "execute_result"
    }
   ],
   "source": [
    "# Find out the True Matches of dataframe A and dataframe B\n",
    "temp = pd.merge(a, c, how='inner', on=None, left_on='wikiID', right_on='wikidata',\n",
    "                  left_index=False, right_index=False, sort=False,\n",
    "                  suffixes=('_wiki', '_bionomia'), copy=False, indicator=False)\n",
    "\n",
    "print(temp.columns.to_list())\n",
    "print(len(temp))\n",
    "temp.head()"
   ]
  },
  {
   "cell_type": "code",
   "execution_count": 6,
   "id": "013e8637",
   "metadata": {},
   "outputs": [],
   "source": [
    "'''\n",
    "use the pd.merge above to prepare training data -- find out the index true pairs\n",
    "training = 0.75, testing = 0.25, no validat set\n",
    "\n",
    "experiment setting\n",
    "    - supervised: Logistics regression, navie bayes, SVM\n",
    "    - undupervised: k-mean, ECM\n",
    "\n",
    "refs\n",
    "https://recordlinkage.readthedocs.io/en/latest/ref-classifiers.html\n",
    "https://recordlinkage.readthedocs.io/en/latest/guides/classifiers.html#\n",
    "'''\n",
    "\n",
    "def define_true_pairs(indexList1, indexList2, indexName1, indexName2):\n",
    "    arrays = [indexList1, indexList2]\n",
    "    tuples = list(zip(*arrays))\n",
    "    index = pd.MultiIndex.from_tuples(tuples, names=[indexName1, indexName2])\n",
    "    return index"
   ]
  },
  {
   "cell_type": "code",
   "execution_count": 7,
   "id": "4d22b637",
   "metadata": {},
   "outputs": [],
   "source": [
    "true_matches = define_true_pairs(temp['wikiID'],temp['bioID'].astype(int),'wikiIndex','bionomiaIndex')"
   ]
  },
  {
   "cell_type": "code",
   "execution_count": 8,
   "id": "4d3f2c29",
   "metadata": {},
   "outputs": [
    {
     "data": {
      "text/plain": [
       "MultiIndex([('Q100146795',  2448),\n",
       "            ('Q100156193',  9747),\n",
       "            ('Q100156252', 11197),\n",
       "            ('Q100157099',  9750),\n",
       "            (   'Q100222', 23973),\n",
       "            (  'Q1002345',  2752),\n",
       "            ('Q100270468',  9509),\n",
       "            ('Q100354624',  3503),\n",
       "            ('Q100364040',  3940),\n",
       "            ('Q100390903',  9749),\n",
       "            ...\n",
       "            (    'Q65402', 48638),\n",
       "            (    'Q65451', 48536),\n",
       "            (    'Q65475',  2961),\n",
       "            (    'Q65499',  6972),\n",
       "            (    'Q65505', 47115),\n",
       "            (     'Q6694',  7405),\n",
       "            (     'Q7324',  5272),\n",
       "            (      'Q762', 38823),\n",
       "            (     'Q8619', 12153),\n",
       "            (      'Q926',   948)],\n",
       "           names=['wikiIndex', 'bionomiaIndex'], length=23895)"
      ]
     },
     "execution_count": 8,
     "metadata": {},
     "output_type": "execute_result"
    }
   ],
   "source": [
    "true_matches"
   ]
  },
  {
   "cell_type": "code",
   "execution_count": 9,
   "id": "1d2687c2",
   "metadata": {},
   "outputs": [],
   "source": [
    "dfa = a.copy()\n",
    "dfc = c.copy()"
   ]
  },
  {
   "cell_type": "code",
   "execution_count": 16,
   "id": "60df2b93",
   "metadata": {},
   "outputs": [],
   "source": [
    "# Load feature DataFrames\n",
    "dfa_feature1 = pd.read_csv('WinB.csv')  \n",
    "dfc_feature1 = pd.read_csv('BinW.csv')"
   ]
  },
  {
   "cell_type": "code",
   "execution_count": 17,
   "id": "1bbc2b9f",
   "metadata": {},
   "outputs": [
    {
     "data": {
      "text/html": [
       "<div>\n",
       "<style scoped>\n",
       "    .dataframe tbody tr th:only-of-type {\n",
       "        vertical-align: middle;\n",
       "    }\n",
       "\n",
       "    .dataframe tbody tr th {\n",
       "        vertical-align: top;\n",
       "    }\n",
       "\n",
       "    .dataframe thead th {\n",
       "        text-align: right;\n",
       "    }\n",
       "</style>\n",
       "<table border=\"1\" class=\"dataframe\">\n",
       "  <thead>\n",
       "    <tr style=\"text-align: right;\">\n",
       "      <th></th>\n",
       "      <th>wikiID</th>\n",
       "      <th>wiki_inBionomiaList</th>\n",
       "    </tr>\n",
       "  </thead>\n",
       "  <tbody>\n",
       "    <tr>\n",
       "      <th>0</th>\n",
       "      <td>Q100142069</td>\n",
       "      <td>[]</td>\n",
       "    </tr>\n",
       "    <tr>\n",
       "      <th>1</th>\n",
       "      <td>Q100146795</td>\n",
       "      <td>[]</td>\n",
       "    </tr>\n",
       "    <tr>\n",
       "      <th>2</th>\n",
       "      <td>Q100149196</td>\n",
       "      <td>[]</td>\n",
       "    </tr>\n",
       "    <tr>\n",
       "      <th>3</th>\n",
       "      <td>Q100152296</td>\n",
       "      <td>[]</td>\n",
       "    </tr>\n",
       "    <tr>\n",
       "      <th>4</th>\n",
       "      <td>Q100156193</td>\n",
       "      <td>[9747]</td>\n",
       "    </tr>\n",
       "    <tr>\n",
       "      <th>...</th>\n",
       "      <td>...</td>\n",
       "      <td>...</td>\n",
       "    </tr>\n",
       "    <tr>\n",
       "      <th>71983</th>\n",
       "      <td>Q7324</td>\n",
       "      <td>[5272, 36031]</td>\n",
       "    </tr>\n",
       "    <tr>\n",
       "      <th>71984</th>\n",
       "      <td>Q7450</td>\n",
       "      <td>[16879]</td>\n",
       "    </tr>\n",
       "    <tr>\n",
       "      <th>71985</th>\n",
       "      <td>Q762</td>\n",
       "      <td>[38823]</td>\n",
       "    </tr>\n",
       "    <tr>\n",
       "      <th>71986</th>\n",
       "      <td>Q8619</td>\n",
       "      <td>[73810]</td>\n",
       "    </tr>\n",
       "    <tr>\n",
       "      <th>71987</th>\n",
       "      <td>Q926</td>\n",
       "      <td>[948]</td>\n",
       "    </tr>\n",
       "  </tbody>\n",
       "</table>\n",
       "<p>71988 rows × 2 columns</p>\n",
       "</div>"
      ],
      "text/plain": [
       "           wikiID wiki_inBionomiaList\n",
       "0      Q100142069                  []\n",
       "1      Q100146795                  []\n",
       "2      Q100149196                  []\n",
       "3      Q100152296                  []\n",
       "4      Q100156193              [9747]\n",
       "...           ...                 ...\n",
       "71983       Q7324       [5272, 36031]\n",
       "71984       Q7450             [16879]\n",
       "71985        Q762             [38823]\n",
       "71986       Q8619             [73810]\n",
       "71987        Q926               [948]\n",
       "\n",
       "[71988 rows x 2 columns]"
      ]
     },
     "execution_count": 17,
     "metadata": {},
     "output_type": "execute_result"
    }
   ],
   "source": [
    "dfa_feature1"
   ]
  },
  {
   "cell_type": "code",
   "execution_count": 18,
   "id": "fb93c09b",
   "metadata": {},
   "outputs": [
    {
     "data": {
      "text/html": [
       "<div>\n",
       "<style scoped>\n",
       "    .dataframe tbody tr th:only-of-type {\n",
       "        vertical-align: middle;\n",
       "    }\n",
       "\n",
       "    .dataframe tbody tr th {\n",
       "        vertical-align: top;\n",
       "    }\n",
       "\n",
       "    .dataframe thead th {\n",
       "        text-align: right;\n",
       "    }\n",
       "</style>\n",
       "<table border=\"1\" class=\"dataframe\">\n",
       "  <thead>\n",
       "    <tr style=\"text-align: right;\">\n",
       "      <th></th>\n",
       "      <th>bioID</th>\n",
       "      <th>Bionomia_in_WikiNameList</th>\n",
       "    </tr>\n",
       "  </thead>\n",
       "  <tbody>\n",
       "    <tr>\n",
       "      <th>0</th>\n",
       "      <td>0</td>\n",
       "      <td>['Q105943570', 'Q108887181', 'Q111615324']</td>\n",
       "    </tr>\n",
       "    <tr>\n",
       "      <th>1</th>\n",
       "      <td>1</td>\n",
       "      <td>['Q21340129']</td>\n",
       "    </tr>\n",
       "    <tr>\n",
       "      <th>2</th>\n",
       "      <td>2</td>\n",
       "      <td>['Q60377700']</td>\n",
       "    </tr>\n",
       "    <tr>\n",
       "      <th>3</th>\n",
       "      <td>3</td>\n",
       "      <td>['Q57235902']</td>\n",
       "    </tr>\n",
       "    <tr>\n",
       "      <th>4</th>\n",
       "      <td>4</td>\n",
       "      <td>['Q11728182']</td>\n",
       "    </tr>\n",
       "    <tr>\n",
       "      <th>...</th>\n",
       "      <td>...</td>\n",
       "      <td>...</td>\n",
       "    </tr>\n",
       "    <tr>\n",
       "      <th>78707</th>\n",
       "      <td>78707</td>\n",
       "      <td>['Q88862468']</td>\n",
       "    </tr>\n",
       "    <tr>\n",
       "      <th>78708</th>\n",
       "      <td>78708</td>\n",
       "      <td>['Q15711474']</td>\n",
       "    </tr>\n",
       "    <tr>\n",
       "      <th>78709</th>\n",
       "      <td>78709</td>\n",
       "      <td>['Q106889970', 'Q6073558']</td>\n",
       "    </tr>\n",
       "    <tr>\n",
       "      <th>78710</th>\n",
       "      <td>78710</td>\n",
       "      <td>['Q106889970', 'Q6073558']</td>\n",
       "    </tr>\n",
       "    <tr>\n",
       "      <th>78711</th>\n",
       "      <td>78711</td>\n",
       "      <td>[]</td>\n",
       "    </tr>\n",
       "  </tbody>\n",
       "</table>\n",
       "<p>78712 rows × 2 columns</p>\n",
       "</div>"
      ],
      "text/plain": [
       "       bioID                    Bionomia_in_WikiNameList\n",
       "0          0  ['Q105943570', 'Q108887181', 'Q111615324']\n",
       "1          1                               ['Q21340129']\n",
       "2          2                               ['Q60377700']\n",
       "3          3                               ['Q57235902']\n",
       "4          4                               ['Q11728182']\n",
       "...      ...                                         ...\n",
       "78707  78707                               ['Q88862468']\n",
       "78708  78708                               ['Q15711474']\n",
       "78709  78709                  ['Q106889970', 'Q6073558']\n",
       "78710  78710                  ['Q106889970', 'Q6073558']\n",
       "78711  78711                                          []\n",
       "\n",
       "[78712 rows x 2 columns]"
      ]
     },
     "execution_count": 18,
     "metadata": {},
     "output_type": "execute_result"
    }
   ],
   "source": [
    "dfc_feature1"
   ]
  },
  {
   "cell_type": "code",
   "execution_count": 19,
   "id": "e7ce27c7",
   "metadata": {},
   "outputs": [],
   "source": [
    "# Merge feature DataFrames into main DataFrames\n",
    "dfa = pd.merge(dfa, dfa_feature1, on='wikiID')\n",
    "dfc = pd.merge(dfc, dfc_feature1, on='bioID')\n",
    "\n",
    "# Set index\n",
    "dfa.set_index('wikiID', inplace=True)\n",
    "dfc.set_index('bioID', inplace=True)\n",
    "\n",
    "# Add custom boolean feature\n",
    "dfa = add_boolean_column(dfa, 'wiki_inBionomiaList', 'has_BionomiaList')\n",
    "dfc = add_boolean_column(dfc, 'Bionomia_in_WikiNameList', 'has_WikiNameList')"
   ]
  },
  {
   "cell_type": "code",
   "execution_count": 20,
   "id": "49c1aaf6",
   "metadata": {},
   "outputs": [],
   "source": [
    "indexer = recordlinkage.Index()\n",
    "indexer.sortedneighbourhood('lastName')# indexer.sortedneighbourhood indexer.full() indexer.block\n",
    "candidate_links = indexer.index(dfa, dfc)"
   ]
  },
  {
   "cell_type": "code",
   "execution_count": 48,
   "id": "b64fc766",
   "metadata": {},
   "outputs": [
    {
     "data": {
      "text/plain": [
       "4.0     11708\n",
       "3.0      8059\n",
       "2.0      7947\n",
       "1.0    563195\n",
       "0.0    336045\n",
       "dtype: int64"
      ]
     },
     "execution_count": 48,
     "metadata": {},
     "output_type": "execute_result"
    }
   ],
   "source": [
    "compare_cl = recordlinkage.Compare()\n",
    "# method options: ‘jaro’, ’jarowinkler’, ‘levenshtein’, ‘damerau_levenshtein’, ‘qgram’ or ‘cosine’.\n",
    "compare_cl.string('firstName', 'firstName', method='damerau_levenshtein', threshold=0.85, label='firstName')\n",
    "compare_cl.exact('dateOfBirth', 'dateOfBirth', label='dateOfBirth')\n",
    "compare_cl.exact('dateOfDeath', 'dateOfDeath', label='dateOfDeath')\n",
    "# compare_cl.string('authorAbbrv', 'B & P Author Abbrev.', method='damerau_levenshtein', threshold=0.85, label='authorAbbrv')\n",
    "# compare_cl.string('countryOfCitizenshipISO', 'geographyISO', method='damerau_levenshtein', threshold=0.85, label='geographyISO')\n",
    "compare_cl.exact('has_BionomiaList', 'has_WikiNameList', label='custom_boolean_feature')\n",
    "# compare_cl.add(CompareAliases('label', 'Name', threshold=0.85, label='sim'))\n",
    "\n",
    "features = compare_cl.compute(candidate_links, dfa, dfc)\n",
    "features.sum(axis=1).value_counts().sort_index(ascending=False)"
   ]
  },
  {
   "cell_type": "code",
   "execution_count": 49,
   "id": "62f0d81d",
   "metadata": {},
   "outputs": [
    {
     "data": {
      "text/plain": [
       "0.9008997698263235"
      ]
     },
     "execution_count": 49,
     "metadata": {},
     "output_type": "execute_result"
    }
   ],
   "source": [
    "predictions = features[features.sum(axis=1) >= 1]\n",
    "len(predictions.index.intersection(true_matches))/len(temp)"
   ]
  },
  {
   "cell_type": "code",
   "execution_count": 31,
   "id": "e52f506c",
   "metadata": {},
   "outputs": [
    {
     "name": "stdout",
     "output_type": "stream",
     "text": [
      "Threshold-Based: 21218 matches\n"
     ]
    },
    {
     "name": "stderr",
     "output_type": "stream",
     "text": [
      "/Users/mbax9qg2/anaconda3/envs/dgl/lib/python3.9/site-packages/recordlinkage/measures.py:147: FutureWarning: Index.__and__ operating as a set operation is deprecated, in the future this will be a logical operation matching Series.__and__.  Use index.intersection(other) instead.\n",
      "  return len(links_true & links_pred)\n",
      "/Users/mbax9qg2/anaconda3/envs/dgl/lib/python3.9/site-packages/recordlinkage/measures.py:179: FutureWarning: Index.__or__ operating as a set operation is deprecated, in the future this will be a logical operation matching Series.__or__.  Use index.union(other) instead.\n",
      "  return int(total) - len(links_true | links_pred)\n"
     ]
    }
   ],
   "source": [
    "# Threshold-based methods\n",
    "\n",
    "# Make Predictions based on threshold > 50%\n",
    "predictions = features[features.sum(axis=1) > 1.5]\n",
    "print(\"Threshold-Based: {} matches\".format(len(predictions)))\n",
    "\n",
    "# Get the confusion matrix. This is just the table with the numbers of True/False Postives and True/False Negatives.\n",
    "confusion_matrix = recordlinkage.confusion_matrix(true_matches, predictions, len(features))"
   ]
  },
  {
   "cell_type": "code",
   "execution_count": 32,
   "id": "9ead83b9",
   "metadata": {},
   "outputs": [
    {
     "name": "stdout",
     "output_type": "stream",
     "text": [
      "Confusion Matrix:\n",
      " [[ 20837   3058]\n",
      " [   381 902678]]\n",
      "Precision: 0.982043547931002\n",
      "Recall: 0.8720234358652438\n",
      "Accuracy: 0.9962899992879906\n",
      "F-Measure: 0.9237692017821914\n"
     ]
    }
   ],
   "source": [
    "# Print Metrics\n",
    "print(\"Confusion Matrix:\\n\", confusion_matrix)\n",
    "print(\"Precision:\", recordlinkage.precision(confusion_matrix))\n",
    "print(\"Recall:\", recordlinkage.recall(confusion_matrix))\n",
    "print(\"Accuracy:\", recordlinkage.accuracy(confusion_matrix))\n",
    "print(\"F-Measure:\", recordlinkage.fscore(confusion_matrix))"
   ]
  },
  {
   "cell_type": "code",
   "execution_count": 33,
   "id": "f4d4331d",
   "metadata": {},
   "outputs": [
    {
     "name": "stdout",
     "output_type": "stream",
     "text": [
      "MultiIndex([( 'Q70043892',  4447),\n",
      "            ('Q100606303',  1232),\n",
      "            ('Q108779939',  9657),\n",
      "            ('Q100919649',  5455),\n",
      "            (  'Q5752310',  4630),\n",
      "            ( 'Q67155257',  5457),\n",
      "            ('Q101096835',  3879),\n",
      "            ('Q101115567',  1956),\n",
      "            (  'Q6761413', 68700),\n",
      "            ( 'Q47038330',  7168),\n",
      "            ...\n",
      "            (   'Q872093',  9204),\n",
      "            (   'Q890923',  2519),\n",
      "            ( 'Q89657013',  2135),\n",
      "            (  'Q9074850', 12139),\n",
      "            ( 'Q95821614',  9198),\n",
      "            (   'Q936950', 34679),\n",
      "            (   'Q946113', 26942),\n",
      "            (    'Q95772', 45208),\n",
      "            (   'Q964497',  5738),\n",
      "            (    'Q97218',  9285)],\n",
      "           length=21554)\n"
     ]
    }
   ],
   "source": [
    "# Return all the true matched feature as test set\n",
    "test_matches_index = features.index.intersection(true_matches)\n",
    "print(test_matches_index)"
   ]
  },
  {
   "cell_type": "code",
   "execution_count": 55,
   "id": "ba084256",
   "metadata": {},
   "outputs": [],
   "source": [
    "# Create a training and test set\n",
    "train, test = train_test_split(features, test_size=0.25, random_state=42) # random_state=42\n",
    "\n",
    "# Get the true pairs for the test set (Used for Evaluation)\n",
    "test_matches_index = test.index.intersection(true_matches)"
   ]
  },
  {
   "cell_type": "code",
   "execution_count": 62,
   "id": "cdc536c0",
   "metadata": {},
   "outputs": [
    {
     "name": "stderr",
     "output_type": "stream",
     "text": [
      "/Users/mbax9qg2/anaconda3/envs/dgl/lib/python3.9/site-packages/recordlinkage/measures.py:147: FutureWarning: Index.__and__ operating as a set operation is deprecated, in the future this will be a logical operation matching Series.__and__.  Use index.intersection(other) instead.\n",
      "  return len(links_true & links_pred)\n",
      "/Users/mbax9qg2/anaconda3/envs/dgl/lib/python3.9/site-packages/recordlinkage/measures.py:179: FutureWarning: Index.__or__ operating as a set operation is deprecated, in the future this will be a logical operation matching Series.__or__.  Use index.union(other) instead.\n",
      "  return int(total) - len(links_true | links_pred)\n"
     ]
    }
   ],
   "source": [
    "# Expectation/Conditional Maxisation Classifier\n",
    "\n",
    "# Initialize the classifier\n",
    "ecm = recordlinkage.ECMClassifier()\n",
    "# Train the Model\n",
    "train_ecm = ecm.fit_predict(train)\n",
    "# Make Predictions on a test set\n",
    "predictions = ecm.predict(features)\n",
    "\n",
    "# Get the confusion matrix. This is just the table with the numbers of True/False Postives and True/False Negatives.\n",
    "confusion_matrix = recordlinkage.confusion_matrix(test_matches_index, predictions, len(test))"
   ]
  },
  {
   "cell_type": "code",
   "execution_count": 63,
   "id": "8f1921d9",
   "metadata": {},
   "outputs": [
    {
     "name": "stdout",
     "output_type": "stream",
     "text": [
      "Confusion Matrix:\n",
      " [[  5157    149]\n",
      " [ 16061 210372]]\n",
      "Precision: 0.24304835517013856\n",
      "Recall: 0.9719185827365246\n",
      "Accuracy: 0.9300506172892781\n",
      "F-Measure: 0.3888553762630071\n"
     ]
    }
   ],
   "source": [
    "# Print Metrics\n",
    "print(\"Confusion Matrix:\\n\", confusion_matrix)\n",
    "print(\"Precision:\", recordlinkage.precision(confusion_matrix))\n",
    "print(\"Recall:\", recordlinkage.recall(confusion_matrix))\n",
    "print(\"Accuracy:\", recordlinkage.accuracy(confusion_matrix))\n",
    "print(\"F-Measure:\", recordlinkage.fscore(confusion_matrix))"
   ]
  },
  {
   "cell_type": "code",
   "execution_count": 64,
   "id": "c8e301b1",
   "metadata": {},
   "outputs": [
    {
     "data": {
      "text/plain": [
       "MultiIndex([( 'Q70043892',  4447),\n",
       "            ('Q100606303',  1232),\n",
       "            ('Q100919649',  5455),\n",
       "            (  'Q5752310',  4630),\n",
       "            ( 'Q67155257',  5457),\n",
       "            ('Q101096835',  3879),\n",
       "            ('Q101115567',  1956),\n",
       "            (  'Q6761413', 68700),\n",
       "            ('Q115246433', 11681),\n",
       "            (   'Q102493', 49380),\n",
       "            ...\n",
       "            (   'Q890923',  2519),\n",
       "            (    'Q89645', 60405),\n",
       "            ( 'Q89657013',  2135),\n",
       "            (  'Q9074850', 12139),\n",
       "            ( 'Q95821614',  9198),\n",
       "            (   'Q936950', 34679),\n",
       "            (   'Q946113', 26942),\n",
       "            (    'Q95772', 45208),\n",
       "            (   'Q964497',  5738),\n",
       "            (    'Q97218',  9285)],\n",
       "           names=['wikiID', 'bioID'], length=21218)"
      ]
     },
     "execution_count": 64,
     "metadata": {},
     "output_type": "execute_result"
    }
   ],
   "source": [
    "predictions"
   ]
  },
  {
   "cell_type": "code",
   "execution_count": 37,
   "id": "40167b10",
   "metadata": {},
   "outputs": [
    {
     "name": "stderr",
     "output_type": "stream",
     "text": [
      "/Users/mbax9qg2/anaconda3/envs/dgl/lib/python3.9/site-packages/recordlinkage/base.py:899: UserWarning: learn is deprecated, KMeansClassifier.fit_predict instead\n",
      "  warnings.warn(\"learn is deprecated, {}.fit_predict \"\n",
      "/Users/mbax9qg2/anaconda3/envs/dgl/lib/python3.9/site-packages/recordlinkage/measures.py:147: FutureWarning: Index.__and__ operating as a set operation is deprecated, in the future this will be a logical operation matching Series.__and__.  Use index.intersection(other) instead.\n",
      "  return len(links_true & links_pred)\n",
      "/Users/mbax9qg2/anaconda3/envs/dgl/lib/python3.9/site-packages/recordlinkage/measures.py:179: FutureWarning: Index.__or__ operating as a set operation is deprecated, in the future this will be a logical operation matching Series.__or__.  Use index.union(other) instead.\n",
      "  return int(total) - len(links_true | links_pred)\n"
     ]
    }
   ],
   "source": [
    "# K-means Classifier\n",
    "# Initialize the classifier\n",
    "kmeans = recordlinkage.KMeansClassifier()\n",
    "\n",
    "# Train the Model\n",
    "train_kmeans = kmeans.learn(train)\n",
    "# Make Predictions on a test set\n",
    "predictions = kmeans.predict(test)\n",
    "\n",
    "# Get the confusion matrix. This is just the table with the numbers of True/False Postives and True/False Negatives.\n",
    "confusion_matrix = recordlinkage.confusion_matrix(test_matches_index, predictions, len(test))"
   ]
  },
  {
   "cell_type": "code",
   "execution_count": 38,
   "id": "da476008",
   "metadata": {},
   "outputs": [
    {
     "name": "stdout",
     "output_type": "stream",
     "text": [
      "Confusion Matrix:\n",
      " [[  5157    149]\n",
      " [    81 226352]]\n",
      "Precision: 0.9845360824742269\n",
      "Recall: 0.9719185827365246\n",
      "Accuracy: 0.9990075041318035\n",
      "F-Measure: 0.9781866464339909\n"
     ]
    }
   ],
   "source": [
    "# Print Metrics\n",
    "print(\"Confusion Matrix:\\n\", confusion_matrix)\n",
    "print(\"Precision:\", recordlinkage.precision(confusion_matrix))\n",
    "print(\"Recall:\", recordlinkage.recall(confusion_matrix))\n",
    "print(\"Accuracy:\", recordlinkage.accuracy(confusion_matrix))\n",
    "print(\"F-Measure:\", recordlinkage.fscore(confusion_matrix))"
   ]
  },
  {
   "cell_type": "code",
   "execution_count": 39,
   "id": "bc317c8e",
   "metadata": {},
   "outputs": [],
   "source": [
    "# Create a training and test set\n",
    "train, test = train_test_split(features, test_size=0.25, random_state=42)\n",
    "\n",
    "# Get the true pairs for each set\n",
    "train_matches_index = train.index.intersection(true_matches)\n",
    "test_matches_index = test.index.intersection(true_matches)"
   ]
  },
  {
   "cell_type": "code",
   "execution_count": 40,
   "id": "eaf78c31",
   "metadata": {},
   "outputs": [
    {
     "name": "stderr",
     "output_type": "stream",
     "text": [
      "/Users/mbax9qg2/anaconda3/envs/dgl/lib/python3.9/site-packages/recordlinkage/base.py:950: FutureWarning: Index.__and__ operating as a set operation is deprecated, in the future this will be a logical operation matching Series.__and__.  Use index.intersection(other) instead.\n",
      "  y.loc[match_index & comparison_vectors.index] = 1\n",
      "/Users/mbax9qg2/anaconda3/envs/dgl/lib/python3.9/site-packages/recordlinkage/measures.py:147: FutureWarning: Index.__and__ operating as a set operation is deprecated, in the future this will be a logical operation matching Series.__and__.  Use index.intersection(other) instead.\n",
      "  return len(links_true & links_pred)\n",
      "/Users/mbax9qg2/anaconda3/envs/dgl/lib/python3.9/site-packages/recordlinkage/measures.py:179: FutureWarning: Index.__or__ operating as a set operation is deprecated, in the future this will be a logical operation matching Series.__or__.  Use index.union(other) instead.\n",
      "  return int(total) - len(links_true | links_pred)\n"
     ]
    }
   ],
   "source": [
    "# Logistic Regression\n",
    "\n",
    "# Initialize the classifier\n",
    "logisticRegression = recordlinkage.LogisticRegressionClassifier()\n",
    "\n",
    "# Train the classifier\n",
    "logisticRegression.fit_predict(train, train_matches_index)\n",
    "\n",
    "# Make Predictions on a test set\n",
    "predictions = logisticRegression.predict(test)\n",
    "\n",
    "# Get the confusion matrix. This is just the table with the numbers of True/False Postives and True/False Negatives.\n",
    "confusion_matrix = recordlinkage.confusion_matrix(test_matches_index, predictions, len(test))"
   ]
  },
  {
   "cell_type": "code",
   "execution_count": 41,
   "id": "4e7e2908",
   "metadata": {},
   "outputs": [
    {
     "name": "stdout",
     "output_type": "stream",
     "text": [
      "Confusion Matrix:\n",
      " [[  5157    149]\n",
      " [    81 226352]]\n",
      "Precision: 0.9845360824742269\n",
      "Recall: 0.9719185827365246\n",
      "Accuracy: 0.9990075041318035\n",
      "F-Measure: 0.9781866464339909\n"
     ]
    }
   ],
   "source": [
    "# Print Metrics\n",
    "print(\"Confusion Matrix:\\n\", confusion_matrix)\n",
    "print(\"Precision:\", recordlinkage.precision(confusion_matrix))\n",
    "print(\"Recall:\", recordlinkage.recall(confusion_matrix))\n",
    "print(\"Accuracy:\", recordlinkage.accuracy(confusion_matrix))\n",
    "print(\"F-Measure:\", recordlinkage.fscore(confusion_matrix))"
   ]
  },
  {
   "cell_type": "code",
   "execution_count": 42,
   "id": "fb1fd908",
   "metadata": {},
   "outputs": [
    {
     "name": "stderr",
     "output_type": "stream",
     "text": [
      "/Users/mbax9qg2/anaconda3/envs/dgl/lib/python3.9/site-packages/recordlinkage/base.py:950: FutureWarning: Index.__and__ operating as a set operation is deprecated, in the future this will be a logical operation matching Series.__and__.  Use index.intersection(other) instead.\n",
      "  y.loc[match_index & comparison_vectors.index] = 1\n",
      "/Users/mbax9qg2/anaconda3/envs/dgl/lib/python3.9/site-packages/recordlinkage/measures.py:147: FutureWarning: Index.__and__ operating as a set operation is deprecated, in the future this will be a logical operation matching Series.__and__.  Use index.intersection(other) instead.\n",
      "  return len(links_true & links_pred)\n",
      "/Users/mbax9qg2/anaconda3/envs/dgl/lib/python3.9/site-packages/recordlinkage/measures.py:179: FutureWarning: Index.__or__ operating as a set operation is deprecated, in the future this will be a logical operation matching Series.__or__.  Use index.union(other) instead.\n",
      "  return int(total) - len(links_true | links_pred)\n"
     ]
    }
   ],
   "source": [
    "# Support Vector Machine Classifier\n",
    "\n",
    "# Initialize the classifier\n",
    "svm = recordlinkage.SVMClassifier()\n",
    "\n",
    "# Train the classifier\n",
    "svm.fit_predict(train, train_matches_index)\n",
    "\n",
    "# Make Predictions on a test set\n",
    "predictions = svm.predict(test)\n",
    "\n",
    "# Get the confusion matrix. This is just the table with the numbers of True/False Postives and True/False Negatives.\n",
    "confusion_matrix = recordlinkage.confusion_matrix(test_matches_index, predictions, len(test))"
   ]
  },
  {
   "cell_type": "code",
   "execution_count": 43,
   "id": "3d9f8815",
   "metadata": {},
   "outputs": [
    {
     "name": "stdout",
     "output_type": "stream",
     "text": [
      "Confusion Matrix:\n",
      " [[  5157    149]\n",
      " [    81 226352]]\n",
      "Precision: 0.9845360824742269\n",
      "Recall: 0.9719185827365246\n",
      "Accuracy: 0.9990075041318035\n",
      "F-Measure: 0.9781866464339909\n"
     ]
    }
   ],
   "source": [
    "# Print Metrics\n",
    "print(\"Confusion Matrix:\\n\", confusion_matrix)\n",
    "print(\"Precision:\", recordlinkage.precision(confusion_matrix))\n",
    "print(\"Recall:\", recordlinkage.recall(confusion_matrix))\n",
    "print(\"Accuracy:\", recordlinkage.accuracy(confusion_matrix))\n",
    "print(\"F-Measure:\", recordlinkage.fscore(confusion_matrix))"
   ]
  },
  {
   "cell_type": "code",
   "execution_count": 44,
   "id": "354eb33d",
   "metadata": {},
   "outputs": [
    {
     "name": "stderr",
     "output_type": "stream",
     "text": [
      "/Users/mbax9qg2/anaconda3/envs/dgl/lib/python3.9/site-packages/recordlinkage/base.py:950: FutureWarning: Index.__and__ operating as a set operation is deprecated, in the future this will be a logical operation matching Series.__and__.  Use index.intersection(other) instead.\n",
      "  y.loc[match_index & comparison_vectors.index] = 1\n",
      "/Users/mbax9qg2/anaconda3/envs/dgl/lib/python3.9/site-packages/recordlinkage/measures.py:147: FutureWarning: Index.__and__ operating as a set operation is deprecated, in the future this will be a logical operation matching Series.__and__.  Use index.intersection(other) instead.\n",
      "  return len(links_true & links_pred)\n",
      "/Users/mbax9qg2/anaconda3/envs/dgl/lib/python3.9/site-packages/recordlinkage/measures.py:179: FutureWarning: Index.__or__ operating as a set operation is deprecated, in the future this will be a logical operation matching Series.__or__.  Use index.union(other) instead.\n",
      "  return int(total) - len(links_true | links_pred)\n"
     ]
    }
   ],
   "source": [
    "# Naive Bayes Classifier\n",
    "\n",
    "# Initialize the classifier\n",
    "naiveBayes = recordlinkage.NaiveBayesClassifier()\n",
    "\n",
    "# Train the classifier\n",
    "naiveBayes.fit_predict(train, train_matches_index)\n",
    "\n",
    "# Make Predictions on a test set\n",
    "predictions = naiveBayes.predict(test)\n",
    "\n",
    "# Get the confusion matrix. This is just the table with the numbers of True/False Postives and True/False Negatives.\n",
    "confusion_matrix = recordlinkage.confusion_matrix(test_matches_index, predictions, len(test))"
   ]
  },
  {
   "cell_type": "code",
   "execution_count": 45,
   "id": "4f5c1b9a",
   "metadata": {},
   "outputs": [
    {
     "name": "stdout",
     "output_type": "stream",
     "text": [
      "Confusion Matrix:\n",
      " [[  5157    149]\n",
      " [    81 226352]]\n",
      "Precision: 0.9845360824742269\n",
      "Recall: 0.9719185827365246\n",
      "Accuracy: 0.9990075041318035\n",
      "F-Measure: 0.9781866464339909\n"
     ]
    }
   ],
   "source": [
    "# Print Metrics\n",
    "print(\"Confusion Matrix:\\n\", confusion_matrix)\n",
    "print(\"Precision:\", recordlinkage.precision(confusion_matrix))\n",
    "print(\"Recall:\", recordlinkage.recall(confusion_matrix))\n",
    "print(\"Accuracy:\", recordlinkage.accuracy(confusion_matrix))\n",
    "print(\"F-Measure:\", recordlinkage.fscore(confusion_matrix))"
   ]
  },
  {
   "cell_type": "code",
   "execution_count": 46,
   "id": "38c791e1",
   "metadata": {},
   "outputs": [],
   "source": [
    "def find_AinB(df1, col1, df2, col2, threshold):\n",
    "    newCol = []\n",
    "    for index1, rowValue1 in df1[col1].iteritems():\n",
    "        temp = []\n",
    "        for index2, rowValue2 in df2[col2].iteritems():\n",
    "            # \n",
    "            sim = process.extractOne(str(rowValue1),str(rowValue2).split(','), scorer=fuzz.ratio)\n",
    "            if sim[-1] >= threshold: temp.append(index2)\n",
    "        newCol.append(temp)\n",
    "    return newCol"
   ]
  },
  {
   "cell_type": "code",
   "execution_count": null,
   "id": "f9acfed7",
   "metadata": {},
   "outputs": [],
   "source": [
    "temp = find_AinB(a, 'label', b, 'Name', 85)"
   ]
  },
  {
   "cell_type": "code",
   "execution_count": null,
   "id": "095ce67e",
   "metadata": {},
   "outputs": [],
   "source": [
    "from fastparquet import ParquetFile\n",
    "temp.to_parquet('find_names.parquet', engine='fastparquet',encoding='utf-8')"
   ]
  },
  {
   "cell_type": "code",
   "execution_count": 56,
   "id": "7afa2f1d",
   "metadata": {},
   "outputs": [
    {
     "name": "stderr",
     "output_type": "stream",
     "text": [
      "/Users/mbax9qg2/anaconda3/envs/dgl/lib/python3.9/site-packages/recordlinkage/base.py:899: UserWarning: learn is deprecated, KMeansClassifier.fit_predict instead\n",
      "  warnings.warn(\"learn is deprecated, {}.fit_predict \"\n",
      "/Users/mbax9qg2/anaconda3/envs/dgl/lib/python3.9/site-packages/recordlinkage/measures.py:147: FutureWarning: Index.__and__ operating as a set operation is deprecated, in the future this will be a logical operation matching Series.__and__.  Use index.intersection(other) instead.\n",
      "  return len(links_true & links_pred)\n",
      "/Users/mbax9qg2/anaconda3/envs/dgl/lib/python3.9/site-packages/recordlinkage/measures.py:179: FutureWarning: Index.__or__ operating as a set operation is deprecated, in the future this will be a logical operation matching Series.__or__.  Use index.union(other) instead.\n",
      "  return int(total) - len(links_true | links_pred)\n"
     ]
    }
   ],
   "source": [
    "# K-means Classifier\n",
    "# Initialize the classifier\n",
    "kmeans = recordlinkage.KMeansClassifier()\n",
    "\n",
    "# Train the Model\n",
    "train_kmeans = kmeans.learn(train)\n",
    "# Make Predictions on a test set\n",
    "predictions = kmeans.predict(features)\n",
    "\n",
    "# Get the confusion matrix. This is just the table with the numbers of True/False Postives and True/False Negatives.\n",
    "confusion_matrix = recordlinkage.confusion_matrix(test_matches_index, predictions, len(test))"
   ]
  },
  {
   "cell_type": "code",
   "execution_count": 57,
   "id": "10e53e30",
   "metadata": {},
   "outputs": [
    {
     "name": "stdout",
     "output_type": "stream",
     "text": [
      "Confusion Matrix:\n",
      " [[  5157    149]\n",
      " [ 16061 210372]]\n",
      "Precision: 0.24304835517013856\n",
      "Recall: 0.9719185827365246\n",
      "Accuracy: 0.9300506172892781\n",
      "F-Measure: 0.3888553762630071\n"
     ]
    }
   ],
   "source": [
    "# Print Metrics\n",
    "print(\"Confusion Matrix:\\n\", confusion_matrix)\n",
    "print(\"Precision:\", recordlinkage.precision(confusion_matrix))\n",
    "print(\"Recall:\", recordlinkage.recall(confusion_matrix))\n",
    "print(\"Accuracy:\", recordlinkage.accuracy(confusion_matrix))\n",
    "print(\"F-Measure:\", recordlinkage.fscore(confusion_matrix))"
   ]
  },
  {
   "cell_type": "code",
   "execution_count": 58,
   "id": "5c106482",
   "metadata": {},
   "outputs": [
    {
     "data": {
      "text/plain": [
       "MultiIndex([( 'Q70043892',  4447),\n",
       "            ('Q100606303',  1232),\n",
       "            ('Q100919649',  5455),\n",
       "            (  'Q5752310',  4630),\n",
       "            ( 'Q67155257',  5457),\n",
       "            ('Q101096835',  3879),\n",
       "            ('Q101115567',  1956),\n",
       "            (  'Q6761413', 68700),\n",
       "            ('Q115246433', 11681),\n",
       "            (   'Q102493', 49380),\n",
       "            ...\n",
       "            (   'Q890923',  2519),\n",
       "            (    'Q89645', 60405),\n",
       "            ( 'Q89657013',  2135),\n",
       "            (  'Q9074850', 12139),\n",
       "            ( 'Q95821614',  9198),\n",
       "            (   'Q936950', 34679),\n",
       "            (   'Q946113', 26942),\n",
       "            (    'Q95772', 45208),\n",
       "            (   'Q964497',  5738),\n",
       "            (    'Q97218',  9285)],\n",
       "           names=['wikiID', 'bioID'], length=21218)"
      ]
     },
     "execution_count": 58,
     "metadata": {},
     "output_type": "execute_result"
    }
   ],
   "source": [
    "predictions"
   ]
  },
  {
   "cell_type": "code",
   "execution_count": 26,
   "id": "f1ae6b59",
   "metadata": {},
   "outputs": [
    {
     "data": {
      "text/plain": [
       "4.0     11708\n",
       "3.0      8059\n",
       "2.0      7947\n",
       "1.0    563195\n",
       "0.0    336045\n",
       "dtype: int64"
      ]
     },
     "execution_count": 26,
     "metadata": {},
     "output_type": "execute_result"
    }
   ],
   "source": [
    "compare_cl = recordlinkage.Compare()\n",
    "# method options: ‘jaro’, ’jarowinkler’, ‘levenshtein’, ‘damerau_levenshtein’, ‘qgram’ or ‘cosine’.\n",
    "compare_cl.string('firstName', 'firstName', method='damerau_levenshtein', threshold=0.85, label='firstName')\n",
    "compare_cl.exact('dateOfBirth', 'dateOfBirth', label='dateOfBirth')\n",
    "compare_cl.exact('dateOfDeath', 'dateOfDeath', label='dateOfDeath')\n",
    "# compare_cl.string('authorAbbrv', 'B & P Author Abbrev.', method='damerau_levenshtein', threshold=0.85, label='authorAbbrv')\n",
    "# compare_cl.string('countryOfCitizenshipISO', 'geographyISO', method='damerau_levenshtein', threshold=0.85, label='geographyISO')\n",
    "compare_cl.exact('has_BionomiaList', 'has_WikiNameList', label='custom_boolean_feature')\n",
    "# compare_cl.add(CompareAliases('label', 'Name', threshold=0.85, label='sim'))\n",
    "\n",
    "features = compare_cl.compute(candidate_links, dfa, dfc)\n",
    "features.sum(axis=1).value_counts().sort_index(ascending=False)"
   ]
  },
  {
   "cell_type": "code",
   "execution_count": 27,
   "id": "71014f98",
   "metadata": {},
   "outputs": [],
   "source": [
    "# Create a training and test set\n",
    "train, test = train_test_split(features, test_size=0.25, random_state=42) # random_state=42\n",
    "\n",
    "# Get the true pairs for the test set (Used for Evaluation)\n",
    "test_matches_index = test.index.intersection(true_matches)"
   ]
  },
  {
   "cell_type": "code",
   "execution_count": 28,
   "id": "3ba2d9c6",
   "metadata": {},
   "outputs": [
    {
     "name": "stdout",
     "output_type": "stream",
     "text": [
      "Training with threshold-based methods\n",
      "Threshold-Based: 27714 matches\n"
     ]
    },
    {
     "name": "stderr",
     "output_type": "stream",
     "text": [
      "/Users/mbax9qg2/anaconda3/envs/dgl/lib/python3.9/site-packages/recordlinkage/measures.py:147: FutureWarning: Index.__and__ operating as a set operation is deprecated, in the future this will be a logical operation matching Series.__and__.  Use index.intersection(other) instead.\n",
      "  return len(links_true & links_pred)\n",
      "/Users/mbax9qg2/anaconda3/envs/dgl/lib/python3.9/site-packages/recordlinkage/measures.py:179: FutureWarning: Index.__or__ operating as a set operation is deprecated, in the future this will be a logical operation matching Series.__or__.  Use index.union(other) instead.\n",
      "  return int(total) - len(links_true | links_pred)\n"
     ]
    },
    {
     "name": "stdout",
     "output_type": "stream",
     "text": [
      "Confusion Matrix:\n",
      " [[ 21362   2533]\n",
      " [  6352 896707]]\n",
      "Precision: 0.7708017608428953\n",
      "Recall: 0.8939945595312827\n",
      "Accuracy: 0.9904148425919733\n",
      "F-Measure: 0.8278401054079716\n",
      "\n",
      "Training with Expectation/Conditional Maxisation Classifier\n",
      "Expectation/Conditional Maxisation: 5238 matches\n",
      "Confusion Matrix:\n",
      " [[  5157    149]\n",
      " [    81 226352]]\n",
      "Precision: 0.9845360824742269\n",
      "Recall: 0.9719185827365246\n",
      "Accuracy: 0.9990075041318035\n",
      "F-Measure: 0.9781866464339909\n",
      "\n",
      "Training with K-means Classifier\n"
     ]
    },
    {
     "name": "stderr",
     "output_type": "stream",
     "text": [
      "/Users/mbax9qg2/anaconda3/envs/dgl/lib/python3.9/site-packages/recordlinkage/measures.py:147: FutureWarning: Index.__and__ operating as a set operation is deprecated, in the future this will be a logical operation matching Series.__and__.  Use index.intersection(other) instead.\n",
      "  return len(links_true & links_pred)\n",
      "/Users/mbax9qg2/anaconda3/envs/dgl/lib/python3.9/site-packages/recordlinkage/measures.py:179: FutureWarning: Index.__or__ operating as a set operation is deprecated, in the future this will be a logical operation matching Series.__or__.  Use index.union(other) instead.\n",
      "  return int(total) - len(links_true | links_pred)\n"
     ]
    },
    {
     "name": "stdout",
     "output_type": "stream",
     "text": [
      "K-means: 5238 matches\n",
      "Confusion Matrix:\n",
      " [[  5157    149]\n",
      " [    81 226352]]\n",
      "Precision: 0.9845360824742269\n",
      "Recall: 0.9719185827365246\n",
      "Accuracy: 0.9990075041318035\n",
      "F-Measure: 0.9781866464339909\n"
     ]
    },
    {
     "name": "stderr",
     "output_type": "stream",
     "text": [
      "/Users/mbax9qg2/anaconda3/envs/dgl/lib/python3.9/site-packages/recordlinkage/measures.py:147: FutureWarning: Index.__and__ operating as a set operation is deprecated, in the future this will be a logical operation matching Series.__and__.  Use index.intersection(other) instead.\n",
      "  return len(links_true & links_pred)\n",
      "/Users/mbax9qg2/anaconda3/envs/dgl/lib/python3.9/site-packages/recordlinkage/measures.py:179: FutureWarning: Index.__or__ operating as a set operation is deprecated, in the future this will be a logical operation matching Series.__or__.  Use index.union(other) instead.\n",
      "  return int(total) - len(links_true | links_pred)\n"
     ]
    }
   ],
   "source": [
    "# Threshold-based methods\n",
    "\n",
    "print(\"Training with threshold-based methods\")\n",
    "# Make Predictions based on threshold > 50%\n",
    "predictions = features[features.sum(axis=1) > 1.5]\n",
    "print(\"Threshold-Based: {} matches\".format(len(predictions)))\n",
    "\n",
    "# Get the confusion matrix. This is just the table with the numbers of True/False Postives and True/False Negatives.\n",
    "confusion_matrix = recordlinkage.confusion_matrix(true_matches, predictions, len(features))\n",
    "\n",
    "# Print Metrics\n",
    "print(\"Confusion Matrix:\\n\", confusion_matrix)\n",
    "print(\"Precision:\", recordlinkage.precision(confusion_matrix))\n",
    "print(\"Recall:\", recordlinkage.recall(confusion_matrix))\n",
    "print(\"Accuracy:\", recordlinkage.accuracy(confusion_matrix))\n",
    "print(\"F-Measure:\", recordlinkage.fscore(confusion_matrix))\n",
    "\n",
    "# Return all the true matched feature as test set\n",
    "# test_matches_index = features.index.intersection(true_matches)\n",
    "# print(test_matches_index)\n",
    "\n",
    "\n",
    "# Expectation/Conditional Maxisation Classifier\n",
    "\n",
    "print(\"\\nTraining with Expectation/Conditional Maxisation Classifier\")\n",
    "# Initialize the classifier\n",
    "ecm = recordlinkage.ECMClassifier()\n",
    "# Train the Model\n",
    "train_ecm = ecm.fit_predict(train)\n",
    "# Make Predictions on a test set\n",
    "predictions = ecm.predict(test)\n",
    "print(\"Expectation/Conditional Maxisation: {} matches\".format(len(predictions)))\n",
    "\n",
    "# Get the confusion matrix. This is just the table with the numbers of True/False Postives and True/False Negatives.\n",
    "confusion_matrix = recordlinkage.confusion_matrix(test_matches_index, predictions, len(test))\n",
    "\n",
    "# Print Metrics\n",
    "print(\"Confusion Matrix:\\n\", confusion_matrix)\n",
    "print(\"Precision:\", recordlinkage.precision(confusion_matrix))\n",
    "print(\"Recall:\", recordlinkage.recall(confusion_matrix))\n",
    "print(\"Accuracy:\", recordlinkage.accuracy(confusion_matrix))\n",
    "print(\"F-Measure:\", recordlinkage.fscore(confusion_matrix))\n",
    "\n",
    "\n",
    "# K-means Classifier\n",
    "# Initialize the classifier\n",
    "print(\"\\nTraining with K-means Classifier\")\n",
    "kmeans = recordlinkage.KMeansClassifier()\n",
    "\n",
    "# Train the Model\n",
    "train_kmeans = kmeans.fit_predict(train)\n",
    "# Make Predictions on a test set\n",
    "predictions = kmeans.predict(test)\n",
    "print(\"K-means: {} matches\".format(len(predictions)))\n",
    "# Get the confusion matrix. This is just the table with the numbers of True/False Postives and True/False Negatives.\n",
    "confusion_matrix = recordlinkage.confusion_matrix(test_matches_index, predictions, len(test))\n",
    "\n",
    "# Print Metrics\n",
    "print(\"Confusion Matrix:\\n\", confusion_matrix)\n",
    "print(\"Precision:\", recordlinkage.precision(confusion_matrix))\n",
    "print(\"Recall:\", recordlinkage.recall(confusion_matrix))\n",
    "print(\"Accuracy:\", recordlinkage.accuracy(confusion_matrix))\n",
    "print(\"F-Measure:\", recordlinkage.fscore(confusion_matrix))\n"
   ]
  },
  {
   "cell_type": "code",
   "execution_count": 29,
   "id": "5572b13f",
   "metadata": {},
   "outputs": [
    {
     "name": "stdout",
     "output_type": "stream",
     "text": [
      "\n",
      "Training with Logistic Regression\n"
     ]
    },
    {
     "name": "stderr",
     "output_type": "stream",
     "text": [
      "/Users/mbax9qg2/anaconda3/envs/dgl/lib/python3.9/site-packages/recordlinkage/base.py:950: FutureWarning: Index.__and__ operating as a set operation is deprecated, in the future this will be a logical operation matching Series.__and__.  Use index.intersection(other) instead.\n",
      "  y.loc[match_index & comparison_vectors.index] = 1\n"
     ]
    },
    {
     "name": "stdout",
     "output_type": "stream",
     "text": [
      "Logistic Regression: 5238 matches\n",
      "Confusion Matrix:\n",
      " [[  5157    149]\n",
      " [    81 226352]]\n",
      "Precision: 0.9845360824742269\n",
      "Recall: 0.9719185827365246\n",
      "Accuracy: 0.9990075041318035\n",
      "F-Measure: 0.9781866464339909\n",
      "\n",
      "Training with Support Vector Machine\n"
     ]
    },
    {
     "name": "stderr",
     "output_type": "stream",
     "text": [
      "/Users/mbax9qg2/anaconda3/envs/dgl/lib/python3.9/site-packages/recordlinkage/measures.py:147: FutureWarning: Index.__and__ operating as a set operation is deprecated, in the future this will be a logical operation matching Series.__and__.  Use index.intersection(other) instead.\n",
      "  return len(links_true & links_pred)\n",
      "/Users/mbax9qg2/anaconda3/envs/dgl/lib/python3.9/site-packages/recordlinkage/measures.py:179: FutureWarning: Index.__or__ operating as a set operation is deprecated, in the future this will be a logical operation matching Series.__or__.  Use index.union(other) instead.\n",
      "  return int(total) - len(links_true | links_pred)\n",
      "/Users/mbax9qg2/anaconda3/envs/dgl/lib/python3.9/site-packages/recordlinkage/base.py:950: FutureWarning: Index.__and__ operating as a set operation is deprecated, in the future this will be a logical operation matching Series.__and__.  Use index.intersection(other) instead.\n",
      "  y.loc[match_index & comparison_vectors.index] = 1\n"
     ]
    },
    {
     "name": "stdout",
     "output_type": "stream",
     "text": [
      "Support Vector Machine: 5238 matches\n",
      "Confusion Matrix:\n",
      " [[  5157    149]\n",
      " [    81 226352]]\n",
      "Precision: 0.9845360824742269\n",
      "Recall: 0.9719185827365246\n",
      "Accuracy: 0.9990075041318035\n",
      "F-Measure: 0.9781866464339909\n",
      "\n",
      "Training with Naive Bayes Classifier\n"
     ]
    },
    {
     "name": "stderr",
     "output_type": "stream",
     "text": [
      "/Users/mbax9qg2/anaconda3/envs/dgl/lib/python3.9/site-packages/recordlinkage/measures.py:147: FutureWarning: Index.__and__ operating as a set operation is deprecated, in the future this will be a logical operation matching Series.__and__.  Use index.intersection(other) instead.\n",
      "  return len(links_true & links_pred)\n",
      "/Users/mbax9qg2/anaconda3/envs/dgl/lib/python3.9/site-packages/recordlinkage/measures.py:179: FutureWarning: Index.__or__ operating as a set operation is deprecated, in the future this will be a logical operation matching Series.__or__.  Use index.union(other) instead.\n",
      "  return int(total) - len(links_true | links_pred)\n",
      "/Users/mbax9qg2/anaconda3/envs/dgl/lib/python3.9/site-packages/recordlinkage/base.py:950: FutureWarning: Index.__and__ operating as a set operation is deprecated, in the future this will be a logical operation matching Series.__and__.  Use index.intersection(other) instead.\n",
      "  y.loc[match_index & comparison_vectors.index] = 1\n"
     ]
    },
    {
     "name": "stdout",
     "output_type": "stream",
     "text": [
      "Naive Bayes: 5238 matches\n",
      "Confusion Matrix:\n",
      " [[  5157    149]\n",
      " [    81 226352]]\n",
      "Precision: 0.9845360824742269\n",
      "Recall: 0.9719185827365246\n",
      "Accuracy: 0.9990075041318035\n",
      "F-Measure: 0.9781866464339909\n"
     ]
    },
    {
     "name": "stderr",
     "output_type": "stream",
     "text": [
      "/Users/mbax9qg2/anaconda3/envs/dgl/lib/python3.9/site-packages/recordlinkage/measures.py:147: FutureWarning: Index.__and__ operating as a set operation is deprecated, in the future this will be a logical operation matching Series.__and__.  Use index.intersection(other) instead.\n",
      "  return len(links_true & links_pred)\n",
      "/Users/mbax9qg2/anaconda3/envs/dgl/lib/python3.9/site-packages/recordlinkage/measures.py:179: FutureWarning: Index.__or__ operating as a set operation is deprecated, in the future this will be a logical operation matching Series.__or__.  Use index.union(other) instead.\n",
      "  return int(total) - len(links_true | links_pred)\n"
     ]
    }
   ],
   "source": [
    "# Create a training and test set\n",
    "train, test = train_test_split(features, test_size=0.25, random_state=42)\n",
    "# Get the true pairs for each set\n",
    "train_matches_index = train.index.intersection(true_matches)\n",
    "test_matches_index = test.index.intersection(true_matches)\n",
    "\n",
    "# Logistic Regression\n",
    "# Initialize the classifier\n",
    "print(\"\\nTraining with Logistic Regression\")\n",
    "logisticRegression = recordlinkage.LogisticRegressionClassifier()\n",
    "\n",
    "# Train the classifier\n",
    "logisticRegression.fit_predict(train, train_matches_index)\n",
    "\n",
    "# Make Predictions on a test set\n",
    "predictions = logisticRegression.predict(test)\n",
    "print(\"Logistic Regression: {} matches\".format(len(predictions)))\n",
    "\n",
    "# Get the confusion matrix. This is just the table with the numbers of True/False Postives and True/False Negatives.\n",
    "confusion_matrix = recordlinkage.confusion_matrix(test_matches_index, predictions, len(test))\n",
    "\n",
    "# Print Metrics\n",
    "print(\"Confusion Matrix:\\n\", confusion_matrix)\n",
    "print(\"Precision:\", recordlinkage.precision(confusion_matrix))\n",
    "print(\"Recall:\", recordlinkage.recall(confusion_matrix))\n",
    "print(\"Accuracy:\", recordlinkage.accuracy(confusion_matrix))\n",
    "print(\"F-Measure:\", recordlinkage.fscore(confusion_matrix))\n",
    "\n",
    "\n",
    "# Support Vector Machine Classifier\n",
    "# Initialize the classifier\n",
    "print(\"\\nTraining with Support Vector Machine\")\n",
    "svm = recordlinkage.SVMClassifier()\n",
    "\n",
    "# Train the classifier\n",
    "svm.fit_predict(train, train_matches_index)\n",
    "\n",
    "# Make Predictions on a test set\n",
    "predictions = svm.predict(test)\n",
    "print(\"Support Vector Machine: {} matches\".format(len(predictions)))\n",
    "\n",
    "# Get the confusion matrix. This is just the table with the numbers of True/False Postives and True/False Negatives.\n",
    "confusion_matrix = recordlinkage.confusion_matrix(test_matches_index, predictions, len(test))\n",
    "\n",
    "# Print Metrics\n",
    "print(\"Confusion Matrix:\\n\", confusion_matrix)\n",
    "print(\"Precision:\", recordlinkage.precision(confusion_matrix))\n",
    "print(\"Recall:\", recordlinkage.recall(confusion_matrix))\n",
    "print(\"Accuracy:\", recordlinkage.accuracy(confusion_matrix))\n",
    "print(\"F-Measure:\", recordlinkage.fscore(confusion_matrix))\n",
    "\n",
    "\n",
    "# Naive Bayes Classifier\n",
    "# Initialize the classifier\n",
    "print(\"\\nTraining with Naive Bayes Classifier\")\n",
    "naiveBayes = recordlinkage.NaiveBayesClassifier()\n",
    "\n",
    "# Train the classifier\n",
    "naiveBayes.fit_predict(train, train_matches_index)\n",
    "\n",
    "# Make Predictions on a test set\n",
    "predictions = naiveBayes.predict(test)\n",
    "print(\"Naive Bayes: {} matches\".format(len(predictions)))\n",
    "\n",
    "# Get the confusion matrix. This is just the table with the numbers of True/False Postives and True/False Negatives.\n",
    "confusion_matrix = recordlinkage.confusion_matrix(test_matches_index, predictions, len(test))\n",
    "\n",
    "# Print Metrics\n",
    "print(\"Confusion Matrix:\\n\", confusion_matrix)\n",
    "print(\"Precision:\", recordlinkage.precision(confusion_matrix))\n",
    "print(\"Recall:\", recordlinkage.recall(confusion_matrix))\n",
    "print(\"Accuracy:\", recordlinkage.accuracy(confusion_matrix))\n",
    "print(\"F-Measure:\", recordlinkage.fscore(confusion_matrix))"
   ]
  },
  {
   "cell_type": "code",
   "execution_count": null,
   "id": "2543191a",
   "metadata": {},
   "outputs": [],
   "source": []
  }
 ],
 "metadata": {
  "kernelspec": {
   "display_name": "Python 3 (ipykernel)",
   "language": "python",
   "name": "python3"
  },
  "language_info": {
   "codemirror_mode": {
    "name": "ipython",
    "version": 3
   },
   "file_extension": ".py",
   "mimetype": "text/x-python",
   "name": "python",
   "nbconvert_exporter": "python",
   "pygments_lexer": "ipython3",
   "version": "3.9.12"
  }
 },
 "nbformat": 4,
 "nbformat_minor": 5
}
